{
 "cells": [
  {
   "cell_type": "code",
   "execution_count": 1,
   "id": "53a2a6a5",
   "metadata": {},
   "outputs": [],
   "source": [
    "import os\n",
    "import requests\n",
    "import json\n",
    "import tqdm  \n",
    "import datetime\n",
    "from openai import OpenAI\n",
    "import pandas as pd\n",
    "import time\n",
    "from moviepy.editor import VideoFileClip\n",
    "from moviepy.video.io.ffmpeg_tools import ffmpeg_extract_audio\n",
    "from pydub import AudioSegment\n",
    "import pysrt"
   ]
  },
  {
   "cell_type": "code",
   "execution_count": 2,
   "id": "bc7f08df-842a-4ca4-b92f-1d29309b2d9a",
   "metadata": {},
   "outputs": [],
   "source": [
    "client = OpenAI(\n",
    "    # This is the default and can be omitted\n",
    "    api_key=os.environ.get(\"OPENAI_API_KEY\"),\n",
    ")"
   ]
  },
  {
   "cell_type": "code",
   "execution_count": 3,
   "id": "7bdd14ed",
   "metadata": {},
   "outputs": [],
   "source": [
    "def make_openai_audio(file, model_name):\n",
    "    audio_file= open(file, \"rb\")\n",
    "    transcription = client.audio.transcriptions.create(\n",
    "        model=\"whisper-1\",\n",
    "        file=audio_file,\n",
    "        response_format=\"srt\"\n",
    "    )\n",
    "    return transcription"
   ]
  },
  {
   "cell_type": "code",
   "execution_count": 4,
   "id": "a21f2165",
   "metadata": {},
   "outputs": [],
   "source": [
    "def extract_audio_from_video(input_path, output_path):\n",
    "    video_clip = VideoFileClip(input_path)\n",
    "    audio_clip = video_clip.audio\n",
    "    audio_clip.write_audiofile(output_path)"
   ]
  },
  {
   "cell_type": "code",
   "execution_count": 5,
   "id": "ed7f2f2c",
   "metadata": {},
   "outputs": [],
   "source": [
    "def export_srt_from_string(subtitle_string, filename):\n",
    "    subtitle_entries = subtitle_string.strip().split('\\n\\n')\n",
    "    \n",
    "    with open(filename, 'w', encoding='utf-8') as file:\n",
    "        for idx, entry in enumerate(subtitle_entries, start=1):\n",
    "            lines = entry.split('\\n')\n",
    "            start_time, end_time = lines[1].split(' --> ')\n",
    "            text = lines[2]\n",
    "            file.write(f\"{idx}\\n{start_time} --> {end_time}\\n{text}\\n\\n\")\n"
   ]
  },
  {
   "cell_type": "code",
   "execution_count": 6,
   "id": "8bb54130",
   "metadata": {},
   "outputs": [],
   "source": [
    "def split_audio(input_file, chunk_size):\n",
    "    video_clip = VideoFileClip(input_file)\n",
    "    audio_clip = video_clip.audio\n",
    "    audio_clip.write_audiofile(\"temp.mp3\")\n",
    "    chunk_files = []\n",
    "    file_size = os.path.getsize(\"temp.mp3\")\n",
    "    num_chunks = int(file_size / chunk_size) + 1\n",
    "    print(\"num_chunks \" + str(num_chunks))\n",
    "    chunk_duration = video_clip.duration / num_chunks\n",
    "    for chunk_index in range(num_chunks):\n",
    "        chunk_start = chunk_index * chunk_duration\n",
    "        chunk_end = min((chunk_index + 1) * chunk_duration, video_clip.duration)\n",
    "        chunk_duration = chunk_end - chunk_start\n",
    "\n",
    "        chunk_filename = os.path.join(\"cache\", f\"audio_chunk_{chunk_index + 1}.mp3\")\n",
    "        chunk_files.append(chunk_filename)\n",
    "        audio_clip.subclip(chunk_start, chunk_end).write_audiofile(chunk_filename, codec=\"mp3\")\n",
    "    os.remove(\"temp.mp3\")\n",
    "    return chunk_files\n",
    "\n"
   ]
  },
  {
   "cell_type": "code",
   "execution_count": 7,
   "id": "57d52c8f",
   "metadata": {},
   "outputs": [],
   "source": [
    "def combine_srt_files(output_srt, audio_clips, srt_files):\n",
    "    combined_srt = pysrt.SubRipFile()\n",
    "    previous_duration = 0\n",
    "\n",
    "    for audio_clip, srt_file in zip(audio_clips, srt_files):\n",
    "        audio = AudioSegment.from_file(audio_clip)\n",
    "        audio_duration_ms = len(audio)  \n",
    "\n",
    "        single_srt = pysrt.open(srt_file)\n",
    "\n",
    "        for item in single_srt:\n",
    "            item.start.ordinal += previous_duration * 10**3  \n",
    "            item.end.ordinal += previous_duration * 10**3\n",
    "            combined_srt.append(item)\n",
    "\n",
    "        previous_duration += audio_duration_ms / 1000  \n",
    "\n",
    "    combined_srt.save(output_srt, encoding='utf-8')"
   ]
  },
  {
   "cell_type": "code",
   "execution_count": 8,
   "id": "fb0461f8",
   "metadata": {},
   "outputs": [],
   "source": [
    "def time_decorator(func):\n",
    "    def wrapper(*args, **kwargs):\n",
    "        start_time = time.time()  \n",
    "        result = func(*args, **kwargs)  \n",
    "        end_time = time.time()  \n",
    "        elapsed_time = end_time - start_time  \n",
    "        print(f\"The function took {elapsed_time} seconds to complete.\")\n",
    "        return result\n",
    "    return wrapper"
   ]
  },
  {
   "cell_type": "code",
   "execution_count": 9,
   "id": "7eef14ff",
   "metadata": {},
   "outputs": [],
   "source": [
    "@time_decorator\n",
    "def generate_transcript(input_video, output_script):\n",
    "    chunk_size = 25 * 1000 * 1000  # 25MB in bytes\n",
    "    audio_clips = split_audio(input_video, chunk_size)\n",
    "    print(\"Split Complete\")\n",
    "    srt_files = []\n",
    "    for index, output_file in enumerate(audio_clips):\n",
    "        print(output_file)\n",
    "        transcript = make_openai_audio(output_file, \"whisper-1\")\n",
    "        srt_filename = os.path.join(\"cache\",f\"audio_chunk_{index + 1}.srt\")\n",
    "        srt_files.append(srt_filename)\n",
    "        export_srt_from_string(transcript, srt_filename)\n",
    "    print(\"API call complete\")\n",
    "    output_srt = output_script  \n",
    "    \n",
    "    combine_srt_files(output_srt, audio_clips, srt_files)\n",
    "\n",
    "    print(\"Combined SRT file created.\")\n",
    "    return 0"
   ]
  },
  {
   "cell_type": "code",
   "execution_count": 10,
   "id": "72abbe04",
   "metadata": {
    "scrolled": true
   },
   "outputs": [
    {
     "name": "stdout",
     "output_type": "stream",
     "text": [
      "MoviePy - Writing audio in temp.mp3\n"
     ]
    },
    {
     "name": "stderr",
     "output_type": "stream",
     "text": [
      "                                                                                \r"
     ]
    },
    {
     "name": "stdout",
     "output_type": "stream",
     "text": [
      "MoviePy - Done.\n",
      "num_chunks 1\n",
      "MoviePy - Writing audio in cache/audio_chunk_1.mp3\n"
     ]
    },
    {
     "name": "stderr",
     "output_type": "stream",
     "text": [
      "                                                                                \r"
     ]
    },
    {
     "name": "stdout",
     "output_type": "stream",
     "text": [
      "MoviePy - Done.\n",
      "Split Complete\n",
      "cache/audio_chunk_1.mp3\n",
      "API call complete\n",
      "Combined SRT file created.\n",
      "The function took 13.901123285293579 seconds to complete.\n"
     ]
    },
    {
     "data": {
      "text/plain": [
       "0"
      ]
     },
     "execution_count": 10,
     "metadata": {},
     "output_type": "execute_result"
    }
   ],
   "source": [
    "input_video = \"videos/andrew_ng_1.mp4\"\n",
    "output_script = \"transcripts/andrew_ng_1.srt\"\n",
    "generate_transcript(input_video, output_script)"
   ]
  },
  {
   "cell_type": "code",
   "execution_count": null,
   "id": "01516dde",
   "metadata": {},
   "outputs": [],
   "source": []
  }
 ],
 "metadata": {
  "kernelspec": {
   "display_name": "video2ta",
   "language": "python",
   "name": "video2ta"
  },
  "language_info": {
   "codemirror_mode": {
    "name": "ipython",
    "version": 3
   },
   "file_extension": ".py",
   "mimetype": "text/x-python",
   "name": "python",
   "nbconvert_exporter": "python",
   "pygments_lexer": "ipython3",
   "version": "3.12.2"
  }
 },
 "nbformat": 4,
 "nbformat_minor": 5
}
