{
 "cells": [
  {
   "cell_type": "code",
   "execution_count": 1,
   "id": "154b8070-2387-4a83-b9a6-2f910e6562ff",
   "metadata": {},
   "outputs": [],
   "source": [
    "import cv2"
   ]
  },
  {
   "cell_type": "code",
   "execution_count": 10,
   "id": "502f1f32-6f21-4d23-8662-42c5e78211e9",
   "metadata": {},
   "outputs": [
    {
     "name": "stdout",
     "output_type": "stream",
     "text": [
      "fps: 30.0\n"
     ]
    }
   ],
   "source": [
    "vidcap = cv2.VideoCapture('videos/andrew_ng_1.mp4');\n",
    "fps = vidcap.get(cv2.CAP_PROP_FPS)\n",
    "success,image = vidcap.read()\n",
    "count = 0\n",
    "success = True\n",
    "print(\"fps:\", fps)"
   ]
  },
  {
   "cell_type": "markdown",
   "id": "7b0d183c-45c5-47bb-a32e-a9de3677cdd5",
   "metadata": {},
   "source": [
    "## Generate frame image 1 per second"
   ]
  },
  {
   "cell_type": "code",
   "execution_count": null,
   "id": "6c9a2805-0e77-40b6-9b60-7c3ad668d4c7",
   "metadata": {
    "scrolled": true
   },
   "outputs": [],
   "source": [
    "while success:\n",
    "    success,image = vidcap.read()\n",
    "    if count % int(fps) == 0 :\n",
    "         cv2.imwrite('frames/frame%d.jpg'%(count/fps),image)\n",
    "    count+=1"
   ]
  },
  {
   "cell_type": "code",
   "execution_count": null,
   "id": "7a36ce4b-ec63-4776-8888-98352c2b5122",
   "metadata": {},
   "outputs": [],
   "source": []
  }
 ],
 "metadata": {
  "kernelspec": {
   "display_name": "video2ta",
   "language": "python",
   "name": "video2ta"
  },
  "language_info": {
   "codemirror_mode": {
    "name": "ipython",
    "version": 3
   },
   "file_extension": ".py",
   "mimetype": "text/x-python",
   "name": "python",
   "nbconvert_exporter": "python",
   "pygments_lexer": "ipython3",
   "version": "3.12.2"
  }
 },
 "nbformat": 4,
 "nbformat_minor": 5
}
